{
 "cells": [
  {
   "cell_type": "code",
   "execution_count": 16,
   "metadata": {},
   "outputs": [],
   "source": [
    "import pandas as pd\n",
    "import re\n",
    "import csv\n",
    "import rdflib\n",
    "from rdflib import Graph, RDF, URIRef, Namespace, Literal, RDF, URIRef\n",
    "from rdflib.namespace import XSD,RDF, FOAF"
   ]
  },
  {
   "cell_type": "code",
   "execution_count": 10,
   "metadata": {},
   "outputs": [],
   "source": [
    "# Creating an RDF graph\n",
    "g = Graph()\n",
    "\n",
    "# Namespace definitions\n",
    "base_uri = \"http://www.semanticweb.org/kocak/ontologies/2024/4/AcademicPapers#\"\n",
    "ns = URIRef(base_uri)\n",
    "\n",
    "# Custom namespaces for properties and classes\n",
    "PAPER = URIRef(base_uri + \"Paper\")\n",
    "AUTHOR = URIRef(base_uri + \"Author\")\n",
    "YEAR = URIRef(base_uri + \"Year\")"
   ]
  },
  {
   "cell_type": "code",
   "execution_count": 8,
   "metadata": {},
   "outputs": [
    {
     "name": "stdout",
     "output_type": "stream",
     "text": [
      "Turtle file has been created.\n"
     ]
    }
   ],
   "source": [
    "# Loading CSV\n",
    "df = pd.read_csv('data/affiliated_with.csv')\n",
    "\n",
    "# Convert affiliation names to a safe IRI format\n",
    "def affiliation_to_iri(name):\n",
    "    # Remove or replace invalid characters for IRI\n",
    "    name = re.sub(r'[^\\w\\s]', '', name)  # Removes any non-alphanumeric chars\n",
    "    name = name.replace(' ', '_')  # Replace ' ' with '_'\n",
    "    return f'ex:Affiliation_{name}'\n",
    "\n",
    "# Prefixes for .ttl file\n",
    "prefixes = \"\"\"\n",
    "@prefix ex: <http://www.semanticweb.org/kocak/ontologies/2024/4/AcademicPapers#> .\n",
    "@prefix rdf: <http://www.w3.org/1999/02/22-rdf-syntax-ns#> .\n",
    "@prefix rdfs: <http://www.w3.org/2000/01/rdf-schema#> .\n",
    "@prefix xsd: <http://www.w3.org/2001/XMLSchema#> .\n",
    "\n",
    "\"\"\"\n",
    "\n",
    "# To write the Turtle content\n",
    "with open('turtle2/affiliated_with.ttl', 'w') as ttl_file:\n",
    "    ttl_file.write(prefixes)\n",
    "    \n",
    "    # Iterate through the DataFrame and write turtle statements\n",
    "    for index, row in df.iterrows():\n",
    "        author_iri = f\"ex:Author_{row['authorId']}\"\n",
    "        affiliation_iri = affiliation_to_iri(row['affiliation'])\n",
    "        ttl_file.write(f\"{author_iri} ex:affiliated_with {affiliation_iri} .\\n\")\n",
    "\n",
    "print(\"Turtle file has been created.\")\n"
   ]
  },
  {
   "cell_type": "code",
   "execution_count": 4,
   "metadata": {},
   "outputs": [
    {
     "name": "stdout",
     "output_type": "stream",
     "text": [
      "Serialized and saved the Turtle file.\n"
     ]
    }
   ],
   "source": [
    "import csv\n",
    "\n",
    "with open('data/papers_details.csv', newline='', encoding='utf-8') as csvfile:\n",
    "    reader = csv.DictReader(csvfile)\n",
    "    for row in reader:\n",
    "        # Create a URI for each paper based on its ID\n",
    "        paper_uri = URIRef(ns + row['paperId'])\n",
    "        \n",
    "        # Add RDF types and literals for properties\n",
    "        g.add((paper_uri, RDF.type, PAPER))\n",
    "        g.add((paper_uri, URIRef(ns + \"title\"), Literal(row['title'], datatype=XSD.string)))\n",
    "        g.add((paper_uri, URIRef(ns + \"abstract\"), Literal(row['abstract'], datatype=XSD.string)))\n",
    "        g.add((paper_uri, URIRef(ns + \"year\"), Literal(row['year'], datatype=XSD.gYear)))\n",
    "        g.add((paper_uri, URIRef(ns + \"keywords\"), Literal(row['keywords'], datatype=XSD.string)))\n",
    "        g.add((paper_uri, URIRef(ns + \"doi\"), Literal(row['doi'], datatype=XSD.string)))\n",
    "\n",
    "# Serialize graph to Turtle format and save\n",
    "g.serialize(destination='turtle2/papers_details.ttl', format='turtle')\n",
    "print(\"Serialized and saved the Turtle file.\")\n",
    "\n"
   ]
  },
  {
   "cell_type": "code",
   "execution_count": 12,
   "metadata": {},
   "outputs": [
    {
     "data": {
      "text/plain": [
       "<Graph identifier=N9b14c377828f4ff4abbe2e6b5fd73b4e (<class 'rdflib.graph.Graph'>)>"
      ]
     },
     "execution_count": 12,
     "metadata": {},
     "output_type": "execute_result"
    }
   ],
   "source": [
    "# namespaces\n",
    "EX = Namespace(\"http://www.semanticweb.org/kocak/ontologies/2024/4/AcademicPapers#\")\n",
    "\n",
    "# new graph\n",
    "g = Graph()\n",
    "\n",
    "# prefix for binding\n",
    "g.bind(\"ex\", EX)\n",
    "\n",
    "with open('data/published_in_enriched_v2.csv', 'r', encoding='utf-8') as file:\n",
    "    reader = csv.DictReader(file)\n",
    "    for row in reader:\n",
    "        # Create URIs for paper and venue\n",
    "        paper = EX[f\"Paper_{row['paper_id']}\"]\n",
    "        venue = EX[f\"Venue_{row['ss_venue_id']}\"]\n",
    "        year = Literal(row['year'], datatype=rdflib.XSD.integer)\n",
    "        \n",
    "        # Add triples to the graph\n",
    "        g.add((paper, EX.published_in, venue))\n",
    "        g.add((paper, EX.publish_year, year))\n",
    "\n",
    "# Serialize the graph in Turtle format and save\n",
    "g.serialize(destination='turtle2/published_in_enriched_v2.ttl', format='turtle')\n"
   ]
  },
  {
   "cell_type": "code",
   "execution_count": 13,
   "metadata": {},
   "outputs": [
    {
     "data": {
      "text/plain": [
       "<Graph identifier=N79971a9fbc654862addd0a8782f08391 (<class 'rdflib.graph.Graph'>)>"
      ]
     },
     "execution_count": 13,
     "metadata": {},
     "output_type": "execute_result"
    }
   ],
   "source": [
    "# namespaces\n",
    "EX = Namespace(\"http://www.semanticweb.org/kocak/ontologies/2024/4/AcademicPapers#\")\n",
    "\n",
    "g = Graph()\n",
    "\n",
    "# prefix for binding\n",
    "g.bind(\"ex\", EX)\n",
    "\n",
    "\n",
    "with open('data/reviewed_by.csv', 'r', encoding='utf-8') as file:\n",
    "    reader = csv.DictReader(file)\n",
    "    for row in reader:\n",
    "        # Create URIs for review and author\n",
    "        review = EX[f\"Review_{row['review_id']}\"]\n",
    "        author = EX[f\"Author_{row['author_id']}\"]\n",
    "        \n",
    "        # Addiing triples to the graph\n",
    "        g.add((review, EX.reviewed_by, author))\n",
    "\n",
    "# Serialize the graph in Turtle format\n",
    "g.serialize(destination='turtle2/reviewed_by.ttl', format='turtle')\n"
   ]
  },
  {
   "cell_type": "code",
   "execution_count": 14,
   "metadata": {},
   "outputs": [
    {
     "data": {
      "text/plain": [
       "<Graph identifier=N0dd5efee1d9441a899824892d8fa4f4f (<class 'rdflib.graph.Graph'>)>"
      ]
     },
     "execution_count": 14,
     "metadata": {},
     "output_type": "execute_result"
    }
   ],
   "source": [
    "EX = Namespace(\"http://www.semanticweb.org/kocak/ontologies/2024/4/AcademicPapers#\")\n",
    "g = Graph()\n",
    "g.bind(\"ex\", EX)\n",
    "\n",
    "with open('data/review_on.csv', 'r', encoding='utf-8') as file:\n",
    "    reader = csv.DictReader(file)\n",
    "    for row in reader:\n",
    "        # Create URIs for review and paper\n",
    "        review = EX[f\"Review_{row['review_id']}\"]\n",
    "        paper = EX[f\"Paper_{row['paper_id']}\"]\n",
    "        \n",
    "        # Addiing triples to the graph\n",
    "        g.add((review, EX.reviewed_on, paper))\n",
    "\n",
    "# Serialize the graph in Turtle format\n",
    "g.serialize(destination='turtle2/review_on.ttl', format='turtle')"
   ]
  },
  {
   "cell_type": "code",
   "execution_count": 15,
   "metadata": {},
   "outputs": [
    {
     "name": "stdout",
     "output_type": "stream",
     "text": [
      "Turtle file has been created with sanitized literals.\n"
     ]
    }
   ],
   "source": [
    "def escape_literal(text):\n",
    "    \"\"\" Escapes quotes and controls characters in a text string for Turtle output. \"\"\"\n",
    "    if pd.isna(text):\n",
    "        return \"\"\n",
    "    # Escape backslashes first, then quotes, and replace newlines and carriage returns\n",
    "    text = text.replace('\\\\', '\\\\\\\\').replace('\"', '\\\\\"').replace('\\n', ' ').replace('\\r', ' ')\n",
    "    return text\n",
    "\n",
    "df = pd.read_csv('data/papers_details_enriched.csv')\n",
    "\n",
    "# Define the base namespace for your papers\n",
    "base_ns = \"http://www.semanticweb.org/kocak/ontologies/2024/4/AcademicPapers#\"\n",
    "\n",
    "# Open a file to write the Turtle content\n",
    "with open('turtle2/papers_details_enriched.ttl', 'w') as ttl_file:\n",
    "    ttl_file.write('@prefix ns1: <{}> .\\n'.format(base_ns))\n",
    "    ttl_file.write('@prefix xsd: <http://www.w3.org/2001/XMLSchema#> .\\n\\n')\n",
    "    \n",
    "    # Iterate over the DataFrame rows\n",
    "    for index, row in df.iterrows():\n",
    "        paper_id = 'Paper_' + str(row['paperId'])\n",
    "        title = escape_literal(row['title'])\n",
    "        abstract = escape_literal(row['abstract'])\n",
    "        year = str(int(row['year'])) if pd.notna(row['year']) else \"\"\n",
    "        keywords = escape_literal(row['keywords'])\n",
    "        doi = escape_literal(row['doi'])\n",
    "\n",
    "        # Creating an entry for each paper with its details\n",
    "        ttl_file.write('ns1:{} a ns1:Paper ;\\n'.format(paper_id))\n",
    "        ttl_file.write('    ns1:title \"{}\"^^xsd:string ;\\n'.format(title))\n",
    "        ttl_file.write('    ns1:abstract \"{}\"^^xsd:string ;\\n'.format(abstract))\n",
    "        ttl_file.write('    ns1:year \"{}\"^^xsd:gYear ;\\n'.format(year))\n",
    "        ttl_file.write('    ns1:keywords \"{}\"^^xsd:string ;\\n'.format(keywords))\n",
    "        ttl_file.write('    ns1:doi \"{}\"^^xsd:string .\\n\\n'.format(doi))\n",
    "\n",
    "print(\"Turtle file has been created with sanitized literals.\")\n"
   ]
  },
  {
   "cell_type": "code",
   "execution_count": 18,
   "metadata": {},
   "outputs": [],
   "source": [
    "def clean_affiliation_name(name):\n",
    "    # Remove unwanted characters as well as encode spaces\n",
    "    return re.sub(r'[^a-zA-Z0-9\\s]', '', name).replace(' ', '_')\n",
    "\n",
    "with open('data/affiliations.csv', 'r', encoding='utf-8') as csv_file:\n",
    "    reader = csv.DictReader(csv_file)\n",
    "    affiliations = list(reader)\n",
    "\n",
    "# Open the Turtle file for writing\n",
    "with open('turtle2/affiliations.ttl', 'w', encoding='utf-8') as ttl_file:\n",
    "    ttl_file.write(\"@prefix ap: <http://www.semanticweb.org/kocak/ontologies/2024/4/AcademicPapers#> .\\n\")\n",
    "    ttl_file.write(\"@prefix foaf: <http://xmlns.com/foaf/0.1/> .\\n\")\n",
    "    ttl_file.write(\"@prefix rdf: <http://www.w3.org/1999/02/22-rdf-syntax-ns#> .\\n\")\n",
    "    ttl_file.write(\"@prefix rdfs: <http://www.w3.org/2000/01/rdf-schema#> .\\n\")\n",
    "    ttl_file.write(\"@prefix xsd: <http://www.w3.org/2001/XMLSchema#> .\\n\\n\")\n",
    "    \n",
    "    # Iterate through each row and write data in turtle format\n",
    "    for affiliation in affiliations:\n",
    "        cleaned_name = clean_affiliation_name(affiliation['name'])\n",
    "        uri = f\"ap:Affiliation_{cleaned_name}\"\n",
    "        address = affiliation['address'].replace('\\n', ', ')\n",
    "        \n",
    "        ttl_file.write(f\"{uri} rdf:type ap:Affiliation .\\n\")\n",
    "        ttl_file.write(f\"{uri} ap:affiliation_name \\\"{affiliation['name']}\\\"^^xsd:string .\\n\")\n",
    "        ttl_file.write(f\"{uri} ap:type \\\"{affiliation['type']}\\\"^^xsd:string .\\n\")\n",
    "        ttl_file.write(f\"{uri} ap:address \\\"{address}\\\"^^xsd:string .\\n\")\n",
    "        ttl_file.write(f\"{uri} ap:affiliation_email \\\"{affiliation['email']}\\\"^^xsd:string .\\n\")\n",
    "        ttl_file.write(f\"{uri} ap:phone_number \\\"{affiliation['phone_number']}\\\"^^xsd:string .\\n\")\n",
    "        ttl_file.write(\"\\n\")"
   ]
  },
  {
   "cell_type": "code",
   "execution_count": 17,
   "metadata": {},
   "outputs": [
    {
     "name": "stdout",
     "output_type": "stream",
     "text": [
      "Conversion to Turtle completed.\n"
     ]
    }
   ],
   "source": [
    "ex = Namespace(\"http://www.semanticweb.org/kocak/ontologies/2024/4/AcademicPapers#\")\n",
    "schema = Namespace(\"http://schema.org/\")\n",
    "\n",
    "g = Graph()\n",
    "\n",
    "# Binding the namespaces\n",
    "g.bind(\"ex\", ex)\n",
    "g.bind(\"foaf\", FOAF)\n",
    "\n",
    "# Function for adding authors to the graph\n",
    "def add_author(author_id, name, affiliation, email):\n",
    "    author_uri = ex[f\"Author_{author_id}\"]\n",
    "    g.add((author_uri, RDF.type, ex.Author))\n",
    "    g.add((author_uri, FOAF.name, Literal(name)))\n",
    "    g.add((author_uri, schema.email, Literal(email)))\n",
    "    g.add((author_uri, ex.affiliated_with, Literal(affiliation)))\n",
    "\n",
    "with open('data/authors.csv', 'r', encoding='utf-8') as file:\n",
    "    reader = csv.DictReader(file)\n",
    "    for row in reader:\n",
    "        add_author(row['authorId'], row['name'], row['affiliations'], row['email'])\n",
    "\n",
    "# Serialize the graph to Turtle format\n",
    "g.serialize(destination='turtle2/authors.ttl', format='turtle')\n",
    "print(\"Conversion to Turtle completed.\")\n"
   ]
  },
  {
   "cell_type": "code",
   "execution_count": 19,
   "metadata": {},
   "outputs": [
    {
     "data": {
      "text/plain": [
       "<Graph identifier=N82fb78aa16a54082a818e856886f4346 (<class 'rdflib.graph.Graph'>)>"
      ]
     },
     "execution_count": 19,
     "metadata": {},
     "output_type": "execute_result"
    }
   ],
   "source": [
    "EX = Namespace(\"http://www.semanticweb.org/kocak/ontologies/2024/4/AcademicPapers#\")\n",
    "FOAF = Namespace(\"http://xmlns.com/foaf/0.1/\")\n",
    "\n",
    "g = Graph()\n",
    "\n",
    "g.bind(\"ex\", EX)\n",
    "g.bind(\"foaf\", FOAF)\n",
    "\n",
    "with open('data/journals.csv', 'r', encoding='utf-8') as file:\n",
    "    reader = csv.DictReader(file)\n",
    "    for row in reader:\n",
    "        # Create a new journal resource\n",
    "        journal = EX[f\"Journal_{row['ss_venue_id']}\"]\n",
    "        \n",
    "        # Add properties to the journal\n",
    "        g.add((journal, RDF.type, EX.Journal))\n",
    "        g.add((journal, EX.name, Literal(row['name'])))\n",
    "        g.add((journal, EX.issn, Literal(row['issn'])))\n",
    "        g.add((journal, FOAF.homepage, URIRef(row['url'])))\n",
    "\n",
    "# Serialize the graph in Turtle format\n",
    "g.serialize(destination='turtle2/journals.ttl', format='turtle')"
   ]
  },
  {
   "cell_type": "code",
   "execution_count": 20,
   "metadata": {},
   "outputs": [
    {
     "data": {
      "text/plain": [
       "<Graph identifier=N86c2818a93124bbbbb53dd06c1887f7d (<class 'rdflib.graph.Graph'>)>"
      ]
     },
     "execution_count": 20,
     "metadata": {},
     "output_type": "execute_result"
    }
   ],
   "source": [
    "EX = Namespace(\"http://www.semanticweb.org/kocak/ontologies/2024/4/AcademicPapers#\")\n",
    "FOAF = Namespace(\"http://xmlns.com/foaf/0.1/\")\n",
    "\n",
    "g = Graph()\n",
    "\n",
    "g.bind(\"ex\", EX)\n",
    "g.bind(\"foaf\", FOAF)\n",
    "\n",
    "import csv\n",
    "with open('data/journals_enriched.csv', 'r', encoding='utf-8') as file:\n",
    "    reader = csv.DictReader(file)\n",
    "    for row in reader:\n",
    "        # Create a new journal resource\n",
    "        journal = EX[f\"Journal_{row['ss_venue_id']}\"]\n",
    "        \n",
    "        # Adding properties to the journal\n",
    "        g.add((journal, RDF.type, EX.Journal))\n",
    "        g.add((journal, EX.name, Literal(row['name'])))\n",
    "        g.add((journal, FOAF.homepage, URIRef(row['url'])))\n",
    "        g.add((journal, EX.year, Literal(row['year'], datatype=rdflib.XSD.integer)))\n",
    "        g.add((journal, EX.volume, Literal(row['volume'], datatype=rdflib.XSD.integer)))\n",
    "\n",
    "# Serialize the graph in Turtle format\n",
    "g.serialize(destination='turtle2/journals_enriched.ttl', format='turtle')"
   ]
  },
  {
   "cell_type": "code",
   "execution_count": 21,
   "metadata": {},
   "outputs": [
    {
     "data": {
      "text/plain": [
       "<Graph identifier=Ne945a23762294853a24521ef4f8bb49d (<class 'rdflib.graph.Graph'>)>"
      ]
     },
     "execution_count": 21,
     "metadata": {},
     "output_type": "execute_result"
    }
   ],
   "source": [
    "EX = Namespace(\"http://www.semanticweb.org/kocak/ontologies/2024/4/AcademicPapers#\")\n",
    "FOAF = Namespace(\"http://xmlns.com/foaf/0.1/\")\n",
    "\n",
    "g = Graph()\n",
    "\n",
    "g.bind(\"ex\", EX)\n",
    "g.bind(\"foaf\", FOAF)\n",
    "\n",
    "with open('data/conferences.csv', 'r', encoding='utf-8') as file:\n",
    "    reader = csv.DictReader(file)\n",
    "    for row in reader:\n",
    "        # Create a new conference resource\n",
    "        conference = EX[f\"Conference_{row['ss_venue_id']}\"]\n",
    "        \n",
    "        # Add properties to the conference\n",
    "        g.add((conference, RDF.type, EX.Conference))\n",
    "        g.add((conference, EX.name, Literal(row['name'])))\n",
    "        if row['url']:  # Ensure there is a URL before adding\n",
    "            g.add((conference, FOAF.homepage, URIRef(row['url'])))\n",
    "\n",
    "# Serialize the graph in Turtle format\n",
    "g.serialize(destination='turtle2/conferences.ttl', format='turtle')"
   ]
  },
  {
   "cell_type": "code",
   "execution_count": 22,
   "metadata": {},
   "outputs": [
    {
     "data": {
      "text/plain": [
       "<Graph identifier=N1c351dae6246426894de8bed86ada878 (<class 'rdflib.graph.Graph'>)>"
      ]
     },
     "execution_count": 22,
     "metadata": {},
     "output_type": "execute_result"
    }
   ],
   "source": [
    "EX = Namespace(\"http://www.semanticweb.org/kocak/ontologies/2024/4/AcademicPapers#\")\n",
    "FOAF = Namespace(\"http://xmlns.com/foaf/0.1/\")\n",
    "\n",
    "g = Graph()\n",
    "\n",
    "# Binding prefixes\n",
    "g.bind(\"ex\", EX)\n",
    "g.bind(\"foaf\", FOAF)\n",
    "\n",
    "with open('data/conferences_enriched.csv', 'r', encoding='utf-8') as file:\n",
    "    reader = csv.DictReader(file)\n",
    "    for row in reader:\n",
    "        # Create a new conference resource\n",
    "        conference = EX[f\"Conference_{row['ss_venue_id']}\"]\n",
    "        \n",
    "        # Add properties to the conference\n",
    "        g.add((conference, RDF.type, EX.Conference))\n",
    "        g.add((conference, EX.name, Literal(row['name'])))\n",
    "        if row['url']:  # Ensure there is a URL before adding\n",
    "            g.add((conference, FOAF.homepage, URIRef(row['url'])))\n",
    "        g.add((conference, EX.city, Literal(row['city'])))\n",
    "        g.add((conference, EX.year, Literal(row['year'], datatype=rdflib.XSD.gYear)))\n",
    "        g.add((conference, EX.edition, Literal(int(row['edition']))))\n",
    "\n",
    "# Serialize the graph in Turtle format\n",
    "g.serialize(destination='turtle2/conferences_enriched.ttl', format='turtle')"
   ]
  },
  {
   "cell_type": "code",
   "execution_count": 23,
   "metadata": {},
   "outputs": [
    {
     "data": {
      "text/plain": [
       "<Graph identifier=Nf5e5e571f7c745ff93a57e078edd224f (<class 'rdflib.graph.Graph'>)>"
      ]
     },
     "execution_count": 23,
     "metadata": {},
     "output_type": "execute_result"
    }
   ],
   "source": [
    "EX = Namespace(\"http://www.semanticweb.org/kocak/ontologies/2024/4/AcademicPapers#\")\n",
    "XSD = Namespace(\"http://www.w3.org/2001/XMLSchema#\")\n",
    "\n",
    "g = Graph()\n",
    "\n",
    "g.bind(\"ex\", EX)\n",
    "g.bind(\"xsd\", XSD)\n",
    "\n",
    "with open('data/reviews.csv', 'r', encoding='utf-8') as file:\n",
    "    reader = csv.DictReader(file)\n",
    "    for row in reader:\n",
    "        # Create a new review resource\n",
    "        review = EX[f\"Review_{row['review_id']}\"]\n",
    "        \n",
    "        # Add properties to the review\n",
    "        g.add((review, RDF.type, EX.Review))\n",
    "        g.add((review, EX.decision, Literal(row['decision'])))\n",
    "        g.add((review, EX.date, Literal(row['date'], datatype=XSD.date)))\n",
    "        g.add((review, EX.abstract, Literal(row['abstract'])))\n",
    "\n",
    "# Serialize the graph in Turtle format\n",
    "g.serialize(destination='turtle2/reviews.ttl', format='turtle')"
   ]
  },
  {
   "cell_type": "code",
   "execution_count": 24,
   "metadata": {},
   "outputs": [
    {
     "data": {
      "text/plain": [
       "<Graph identifier=N646f8f8ba2ab49f088cd84c5081b3535 (<class 'rdflib.graph.Graph'>)>"
      ]
     },
     "execution_count": 24,
     "metadata": {},
     "output_type": "execute_result"
    }
   ],
   "source": [
    "EX = Namespace(\"http://www.semanticweb.org/kocak/ontologies/2024/4/AcademicPapers#\")\n",
    "\n",
    "g = Graph()\n",
    "\n",
    "g.bind(\"ex\", EX)\n",
    "\n",
    "with open('data/written_by.csv', 'r', encoding='utf-8') as file:\n",
    "    reader = csv.DictReader(file)\n",
    "    for row in reader:\n",
    "        # Create relationships\n",
    "        paper = EX[f\"Paper_{row['paperId']}\"]\n",
    "        author = EX[f\"Author_{row['authorId']}\"]\n",
    "        \n",
    "        # Add \"written by\" relationship\n",
    "        g.add((paper, EX.written_by, author))\n",
    "\n",
    "# Serialize the graph in Turtle format\n",
    "g.serialize(destination='turtle2/written_by.ttl', format='turtle')\n"
   ]
  },
  {
   "cell_type": "code",
   "execution_count": 25,
   "metadata": {},
   "outputs": [
    {
     "data": {
      "text/plain": [
       "<Graph identifier=N51fc831f167b421cb4e618265a0ad231 (<class 'rdflib.graph.Graph'>)>"
      ]
     },
     "execution_count": 25,
     "metadata": {},
     "output_type": "execute_result"
    }
   ],
   "source": [
    "EX = Namespace(\"http://www.semanticweb.org/kocak/ontologies/2024/4/AcademicPapers#\")\n",
    "\n",
    "g = Graph()\n",
    "\n",
    "g.bind(\"ex\", EX)\n",
    "\n",
    "with open('data/written_by_enriched.csv', 'r', encoding='utf-8') as file:\n",
    "    reader = csv.DictReader(file)\n",
    "    for row in reader:\n",
    "        # Create relationships\n",
    "        paper = EX[f\"Paper_{row['paperId']}\"]\n",
    "        author = EX[f\"Author_{row['authorId']}\"]\n",
    "        \n",
    "        # Add \"written by\" relationship\n",
    "        g.add((paper, EX.written_by, author))\n",
    "\n",
    "# Serialize the graph in Turtle format\n",
    "g.serialize(destination='turtle2/written_by_enriched.ttl', format='turtle')"
   ]
  },
  {
   "cell_type": "code",
   "execution_count": 26,
   "metadata": {},
   "outputs": [
    {
     "data": {
      "text/plain": [
       "<Graph identifier=N277339910be24621ae9acff317c6d65e (<class 'rdflib.graph.Graph'>)>"
      ]
     },
     "execution_count": 26,
     "metadata": {},
     "output_type": "execute_result"
    }
   ],
   "source": [
    "EX = Namespace(\"http://www.semanticweb.org/kocak/ontologies/2024/4/AcademicPapers#\")\n",
    "\n",
    "g = Graph()\n",
    "\n",
    "g.bind(\"ex\", EX)\n",
    "\n",
    "with open('data/citations.csv', 'r', encoding='utf-8') as file:\n",
    "    reader = csv.DictReader(file)\n",
    "    for row in reader:\n",
    "        # Create citation relationships\n",
    "        citing_paper = EX[f\"Paper_{row['paperId']}\"]\n",
    "        cited_paper = EX[f\"Paper_{row['referenceId']}\"]\n",
    "        year = Literal(row['year'], datatype=rdflib.XSD.integer)\n",
    "        \n",
    "        # Add citation relationship\n",
    "        g.add((citing_paper, EX.cites_to, cited_paper))\n",
    "        g.add((citing_paper, EX.citation_year, year))\n",
    "\n",
    "# Serialize the graph in Turtle format\n",
    "g.serialize(destination='turtle2/citations.ttl', format='turtle')"
   ]
  },
  {
   "cell_type": "code",
   "execution_count": 28,
   "metadata": {},
   "outputs": [
    {
     "data": {
      "text/plain": [
       "<Graph identifier=N86b2d5d8cf9540cdae0791cfbbf3f90b (<class 'rdflib.graph.Graph'>)>"
      ]
     },
     "execution_count": 28,
     "metadata": {},
     "output_type": "execute_result"
    }
   ],
   "source": [
    "EX = Namespace(\"http://www.semanticweb.org/kocak/ontologies/2024/4/AcademicPapers#\")\n",
    "\n",
    "g = Graph()\n",
    "\n",
    "g.bind(\"ex\", EX)\n",
    "\n",
    "with open('data/published_in_enriched.csv', 'r', encoding='utf-8') as file:\n",
    "    reader = csv.DictReader(file)\n",
    "    for row in reader:\n",
    "        # Create URIs for paper and venue\n",
    "        paper = EX[f\"Paper_{row['paper_id']}\"]\n",
    "        venue = EX[f\"Venue_{row['ss_venue_id']}\"]\n",
    "        year = Literal(row['year'], datatype=rdflib.XSD.integer)\n",
    "        \n",
    "        # Add triples to the graph\n",
    "        g.add((paper, EX.published_in, venue))\n",
    "        g.add((paper, EX.publish_year, year))\n",
    "\n",
    "# Serialize the graph in Turtle format\n",
    "g.serialize(destination='turtle2/published_in_enriched.ttl', format='turtle')"
   ]
  },
  {
   "cell_type": "code",
   "execution_count": 27,
   "metadata": {},
   "outputs": [
    {
     "data": {
      "text/plain": [
       "<Graph identifier=N02be96de63bb4bd29ac3954a9e613b23 (<class 'rdflib.graph.Graph'>)>"
      ]
     },
     "execution_count": 27,
     "metadata": {},
     "output_type": "execute_result"
    }
   ],
   "source": [
    "EX = Namespace(\"http://www.semanticweb.org/kocak/ontologies/2024/4/AcademicPapers#\")\n",
    "\n",
    "g = Graph()\n",
    "\n",
    "g.bind(\"ex\", EX)\n",
    "with open('data/published_in.csv', 'r', encoding='utf-8') as file:\n",
    "    reader = csv.DictReader(file)\n",
    "    for row in reader:\n",
    "        # Create URIs for paper and venue\n",
    "        paper = EX[f\"Paper_{row['paper_id']}\"]\n",
    "        venue = EX[f\"Venue_{row['ss_venue_id']}\"]\n",
    "        \n",
    "        # Add triples to the graph\n",
    "        g.add((paper, EX.published_in, venue))\n",
    "\n",
    "# Serialize the graph in Turtle format\n",
    "g.serialize(destination='turtle2/published_in.ttl', format='turtle')"
   ]
  }
 ],
 "metadata": {
  "kernelspec": {
   "display_name": "base",
   "language": "python",
   "name": "python3"
  },
  "language_info": {
   "codemirror_mode": {
    "name": "ipython",
    "version": 3
   },
   "file_extension": ".py",
   "mimetype": "text/x-python",
   "name": "python",
   "nbconvert_exporter": "python",
   "pygments_lexer": "ipython3",
   "version": "3.9.12"
  }
 },
 "nbformat": 4,
 "nbformat_minor": 2
}
