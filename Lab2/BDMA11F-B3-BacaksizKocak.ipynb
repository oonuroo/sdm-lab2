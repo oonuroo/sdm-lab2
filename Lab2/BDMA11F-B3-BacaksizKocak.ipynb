{
 "cells": [
  {
   "cell_type": "code",
   "execution_count": 2,
   "metadata": {},
   "outputs": [
    {
     "name": "stdout",
     "output_type": "stream",
     "text": [
      "All TTL files have been combined and saved as 'combined_graph.rdf' for final ontology\n"
     ]
    }
   ],
   "source": [
    "from rdflib import Graph\n",
    "\n",
    "# List of Turtle files to combine\n",
    "ttl_files = [\n",
    "    \"turtle/journals_enriched.ttl\",\n",
    "    \"turtle/conferences_enriched.ttl\",\n",
    "    \"turtle/papers_details_enriched.ttl\",\n",
    "    \"turtle/citations.ttl\",\n",
    "    \"turtle/review_on.ttl\",\n",
    "    \"turtle/reviews.ttl\",\n",
    "    \"turtle/reviewed_by.ttl\",\n",
    "    \"turtle/published_in_enriched_v2.ttl\",\n",
    "    \"turtle/affiliated_with.ttl\",\n",
    "    \"turtle/affiliations.ttl\",\n",
    "    \"turtle/written_by_enriched.ttl\",\n",
    "    \"turtle/authors.ttl\"\n",
    "]\n",
    "\n",
    "# Create an empty Graph\n",
    "combined_graph = Graph()\n",
    "\n",
    "# Load each file into the graph\n",
    "for file_name in ttl_files:\n",
    "    combined_graph.parse(file_name, format=\"ttl\")\n",
    "\n",
    "# Serialize and save the combined graph to an RDF/XML file\n",
    "combined_graph.serialize(destination=\"combined_graph.rdf\", format=\"xml\")\n",
    "\n",
    "print(\"All TTL files have been combined and saved as 'combined_graph.rdf' for final ontology\")"
   ]
  },
  {
   "cell_type": "code",
   "execution_count": 9,
   "metadata": {},
   "outputs": [],
   "source": [
    "from rdflib import Graph, URIRef\n",
    "from urllib.parse import urlparse\n",
    "\n",
    "def is_valid_iri(iri):\n",
    "    parsed = urlparse(iri)\n",
    "    return all([parsed.scheme, parsed.netloc, parsed.path])\n",
    "\n",
    "g = Graph()\n",
    "g.parse(\"combined_graph.rdf\", format=\"xml\")\n",
    "\n",
    "for s, p, o in g:\n",
    "    for term in [s, p, o]:\n",
    "        if isinstance(term, URIRef) and not is_valid_iri(str(term)):\n",
    "            print(f\"Invalid IRI found: {term}\")\n"
   ]
  },
  {
   "cell_type": "code",
   "execution_count": 3,
   "metadata": {},
   "outputs": [
    {
     "name": "stdout",
     "output_type": "stream",
     "text": [
      "Number of Classes\n",
      "  Total: 18\n",
      "\n",
      "Number of Properties\n",
      "  Total: 37\n",
      "\n",
      "Number of Instances for Main Classes\n",
      "  Paper: 1566\n",
      "  Author: 518\n",
      "  Affiliation: 32\n",
      "  Review: 180\n",
      "\n",
      "Total Number of Triples\n",
      "  Total: 30218\n",
      "\n"
     ]
    }
   ],
   "source": [
    "from SPARQLWrapper import SPARQLWrapper, JSON\n",
    "\n",
    "# Configuration\n",
    "endpoint_url = \"http://onur-MacBook-Pro.local:7200/repositories/bacaksiz\"\n",
    "\n",
    "# Initialize the SPARQL wrapper with your endpoint\n",
    "sparql = SPARQLWrapper(endpoint_url)\n",
    "\n",
    "def run_query(query):\n",
    "    sparql.setQuery(query)\n",
    "    sparql.setReturnFormat(JSON)\n",
    "    return sparql.query().convert()\n",
    "\n",
    "# Queries to fetch statistics\n",
    "prefixes = \"\"\"\n",
    "PREFIX ex: <http://www.semanticweb.org/kocak/ontologies/2024/4/AcademicPapers#>\n",
    "PREFIX rdf: <http://www.w3.org/1999/02/22-rdf-syntax-ns#>\n",
    "PREFIX xsd: <http://www.w3.org/2001/XMLSchema#>\n",
    "PREFIX owl: <http://www.w3.org/2002/07/owl#>\n",
    "PREFIX rdfs: <http://www.w3.org/2000/01/rdf-schema#>\n",
    "\"\"\"\n",
    "\n",
    "queries = {\n",
    "    \"Number of Classes\": prefixes + \"SELECT (COUNT(DISTINCT ?class) AS ?count) WHERE {[] a ?class.}\",\n",
    "    \"Number of Properties\": prefixes + \"SELECT (COUNT(DISTINCT ?property) AS ?count) WHERE {[] ?property [].}\",\n",
    "    \"Number of Instances for Main Classes\": prefixes + \"\"\"\n",
    "        SELECT ?class (COUNT(?instance) AS ?count)\n",
    "        WHERE {\n",
    "            ?instance a ?class.\n",
    "            FILTER(?class IN (ex:Paper, ex:Author, ex:Affiliation, ex:Review, ex:Citation))\n",
    "        }\n",
    "        GROUP BY ?class\n",
    "    \"\"\",\n",
    "    \"Total Number of Triples\": prefixes + \"SELECT (COUNT(*) AS ?count) WHERE { ?s ?p ?o. }\"\n",
    "}\n",
    "\n",
    "# Run queries and print results\n",
    "for description, query in queries.items():\n",
    "    results = run_query(query)\n",
    "    print(description)\n",
    "    for result in results[\"results\"][\"bindings\"]:\n",
    "        class_label = result['class']['value'].split('#')[-1] if 'class' in result else 'Total'\n",
    "        print(f\"  {class_label}: {result['count']['value']}\")\n",
    "    print()\n"
   ]
  }
 ],
 "metadata": {
  "kernelspec": {
   "display_name": "base",
   "language": "python",
   "name": "python3"
  },
  "language_info": {
   "codemirror_mode": {
    "name": "ipython",
    "version": 3
   },
   "file_extension": ".py",
   "mimetype": "text/x-python",
   "name": "python",
   "nbconvert_exporter": "python",
   "pygments_lexer": "ipython3",
   "version": "3.9.12"
  }
 },
 "nbformat": 4,
 "nbformat_minor": 2
}
